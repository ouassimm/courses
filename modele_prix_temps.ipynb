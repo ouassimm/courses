{
 "cells": [
  {
   "cell_type": "markdown",
   "id": "05ff930b-7919-49ca-aae6-f57e233589e7",
   "metadata": {
    "tags": []
   },
   "source": [
    "# EXERCICE\n",
    "L’exercice proposé consiste à caler le modèle prix-temps. Cela suppose de rentrer les formules permettant de calculer d’une part le logarithme népérien de la valeur d’indifférence du temps et d’autre part la transformée de la part de marché du fer.\n",
    "\n",
    "Il faut ensuite faire la régression sur ces deux vecteurs.\n",
    "\n",
    "Enfin, il faut faire l’analyse des résultats de l’application du modèle théorique en analysant les résidus (comparaison des parts de marché théoriques fournies par le modèle prix-temps avec les parts de marché observées calculées sur les données disponibles). "
   ]
  },
  {
   "cell_type": "code",
   "execution_count": 71,
   "id": "f5c36533-dae4-4ba7-a1c3-821713f15092",
   "metadata": {},
   "outputs": [
    {
     "data": {
      "text/html": [
       "\n",
       "        <iframe\n",
       "            width=\"1300\"\n",
       "            height=\"600\"\n",
       "            src=\"Motus #1 Exercice Calage Modèle Prix temps 2020_12_11.pdf\"\n",
       "            frameborder=\"0\"\n",
       "            allowfullscreen\n",
       "            \n",
       "        ></iframe>\n",
       "        "
      ],
      "text/plain": [
       "<IPython.lib.display.IFrame at 0x7f53976a6a90>"
      ]
     },
     "execution_count": 71,
     "metadata": {},
     "output_type": "execute_result"
    }
   ],
   "source": [
    "from IPython.display import IFrame\n",
    "IFrame(\"Motus #1 Exercice Calage Modèle Prix temps 2020_12_11.pdf\", width=1300, height=600)"
   ]
  },
  {
   "cell_type": "markdown",
   "id": "e91aecdb-c8fe-4873-b139-c81142d28aa4",
   "metadata": {},
   "source": [
    "# Résolution de l'exercice"
   ]
  },
  {
   "cell_type": "code",
   "execution_count": 57,
   "id": "012ddea9-cd44-45eb-971e-744fbf832f3a",
   "metadata": {},
   "outputs": [],
   "source": [
    "import pandas as pd\n",
    "import numpy as np\n",
    "\n",
    "from scipy.stats import norm, linregress\n",
    "import matplotlib.pyplot as plt\n",
    "\n",
    "import matplotlib.pyplot as plt\n",
    "plt.rcParams[\"figure.figsize\"] = (20,10)"
   ]
  },
  {
   "cell_type": "code",
   "execution_count": 59,
   "id": "211b9479-5666-4d18-b65d-be47087b8417",
   "metadata": {},
   "outputs": [],
   "source": [
    "def label_point(x, y, val, ax):\n",
    "    a = pd.concat({'x': x, 'y': y, 'val': val}, axis=1)\n",
    "    for i, point in a.iterrows():\n",
    "        ax.text(point['x']+.02, point['y'], str(point['val']), fontsize=18)"
   ]
  },
  {
   "cell_type": "markdown",
   "id": "8cd5d1e0-ece1-4d0c-ba7a-18f3c4680143",
   "metadata": {},
   "source": [
    "## Lecture des données "
   ]
  },
  {
   "cell_type": "code",
   "execution_count": 35,
   "id": "00319f31-1df1-40ef-bfb9-bef2e00bfab2",
   "metadata": {},
   "outputs": [],
   "source": [
    "data_tmps = pd.read_csv(\"temps_parcours.csv\", sep=\";\")\n",
    "data_prix = pd.read_csv(\"prix.csv\", sep=\";\")\n",
    "data_part = pd.read_csv(\"part_marche.csv\", sep=\";\")"
   ]
  },
  {
   "cell_type": "code",
   "execution_count": 36,
   "id": "60e02efc-beb3-4c29-bd21-037006e14e8d",
   "metadata": {},
   "outputs": [
    {
     "data": {
      "text/html": [
       "<div>\n",
       "<style scoped>\n",
       "    .dataframe tbody tr th:only-of-type {\n",
       "        vertical-align: middle;\n",
       "    }\n",
       "\n",
       "    .dataframe tbody tr th {\n",
       "        vertical-align: top;\n",
       "    }\n",
       "\n",
       "    .dataframe thead th {\n",
       "        text-align: right;\n",
       "    }\n",
       "</style>\n",
       "<table border=\"1\" class=\"dataframe\">\n",
       "  <thead>\n",
       "    <tr style=\"text-align: right;\">\n",
       "      <th></th>\n",
       "      <th>Ville</th>\n",
       "      <th>TEMPS_SNCF</th>\n",
       "      <th>TEMPS_AIR</th>\n",
       "    </tr>\n",
       "  </thead>\n",
       "  <tbody>\n",
       "    <tr>\n",
       "      <th>0</th>\n",
       "      <td>Bordeaux</td>\n",
       "      <td>242</td>\n",
       "      <td>165</td>\n",
       "    </tr>\n",
       "    <tr>\n",
       "      <th>1</th>\n",
       "      <td>Brest</td>\n",
       "      <td>308</td>\n",
       "      <td>170</td>\n",
       "    </tr>\n",
       "    <tr>\n",
       "      <th>2</th>\n",
       "      <td>Clermont-Ferrand</td>\n",
       "      <td>266</td>\n",
       "      <td>140</td>\n",
       "    </tr>\n",
       "    <tr>\n",
       "      <th>3</th>\n",
       "      <td>Limoges</td>\n",
       "      <td>235</td>\n",
       "      <td>180</td>\n",
       "    </tr>\n",
       "    <tr>\n",
       "      <th>4</th>\n",
       "      <td>Lyon</td>\n",
       "      <td>185</td>\n",
       "      <td>170</td>\n",
       "    </tr>\n",
       "    <tr>\n",
       "      <th>5</th>\n",
       "      <td>Marseille</td>\n",
       "      <td>319</td>\n",
       "      <td>190</td>\n",
       "    </tr>\n",
       "    <tr>\n",
       "      <th>6</th>\n",
       "      <td>Metz/Nancy</td>\n",
       "      <td>225</td>\n",
       "      <td>140</td>\n",
       "    </tr>\n",
       "    <tr>\n",
       "      <th>7</th>\n",
       "      <td>Montpellier</td>\n",
       "      <td>319</td>\n",
       "      <td>185</td>\n",
       "    </tr>\n",
       "    <tr>\n",
       "      <th>8</th>\n",
       "      <td>Nantes</td>\n",
       "      <td>184</td>\n",
       "      <td>175</td>\n",
       "    </tr>\n",
       "    <tr>\n",
       "      <th>9</th>\n",
       "      <td>Nice</td>\n",
       "      <td>451</td>\n",
       "      <td>210</td>\n",
       "    </tr>\n",
       "    <tr>\n",
       "      <th>10</th>\n",
       "      <td>Strasbourg</td>\n",
       "      <td>296</td>\n",
       "      <td>160</td>\n",
       "    </tr>\n",
       "    <tr>\n",
       "      <th>11</th>\n",
       "      <td>Toulon</td>\n",
       "      <td>368</td>\n",
       "      <td>185</td>\n",
       "    </tr>\n",
       "    <tr>\n",
       "      <th>12</th>\n",
       "      <td>Toulouse</td>\n",
       "      <td>365</td>\n",
       "      <td>190</td>\n",
       "    </tr>\n",
       "  </tbody>\n",
       "</table>\n",
       "</div>"
      ],
      "text/plain": [
       "               Ville  TEMPS_SNCF  TEMPS_AIR\n",
       "0           Bordeaux         242        165\n",
       "1              Brest         308        170\n",
       "2   Clermont-Ferrand         266        140\n",
       "3            Limoges         235        180\n",
       "4               Lyon         185        170\n",
       "5          Marseille         319        190\n",
       "6         Metz/Nancy         225        140\n",
       "7        Montpellier         319        185\n",
       "8             Nantes         184        175\n",
       "9               Nice         451        210\n",
       "10        Strasbourg         296        160\n",
       "11            Toulon         368        185\n",
       "12          Toulouse         365        190"
      ]
     },
     "execution_count": 36,
     "metadata": {},
     "output_type": "execute_result"
    }
   ],
   "source": [
    "data_tmps"
   ]
  },
  {
   "cell_type": "code",
   "execution_count": 37,
   "id": "b716766c-90e6-4c1c-9406-b62ebdf97300",
   "metadata": {},
   "outputs": [
    {
     "data": {
      "text/html": [
       "<div>\n",
       "<style scoped>\n",
       "    .dataframe tbody tr th:only-of-type {\n",
       "        vertical-align: middle;\n",
       "    }\n",
       "\n",
       "    .dataframe tbody tr th {\n",
       "        vertical-align: top;\n",
       "    }\n",
       "\n",
       "    .dataframe thead th {\n",
       "        text-align: right;\n",
       "    }\n",
       "</style>\n",
       "<table border=\"1\" class=\"dataframe\">\n",
       "  <thead>\n",
       "    <tr style=\"text-align: right;\">\n",
       "      <th></th>\n",
       "      <th>Ville</th>\n",
       "      <th>PRIX_SNCF_1</th>\n",
       "      <th>PRIX_SNCF_2</th>\n",
       "      <th>PRIX_Aerien</th>\n",
       "    </tr>\n",
       "  </thead>\n",
       "  <tbody>\n",
       "    <tr>\n",
       "      <th>0</th>\n",
       "      <td>Bordeaux</td>\n",
       "      <td>62.199199</td>\n",
       "      <td>44.705674</td>\n",
       "      <td>82.609073</td>\n",
       "    </tr>\n",
       "    <tr>\n",
       "      <th>1</th>\n",
       "      <td>Brest</td>\n",
       "      <td>72.565732</td>\n",
       "      <td>48.074798</td>\n",
       "      <td>98.597926</td>\n",
       "    </tr>\n",
       "    <tr>\n",
       "      <th>2</th>\n",
       "      <td>Clermont-Ferrand</td>\n",
       "      <td>44.964838</td>\n",
       "      <td>30.062946</td>\n",
       "      <td>89.444887</td>\n",
       "    </tr>\n",
       "    <tr>\n",
       "      <th>3</th>\n",
       "      <td>Limoges</td>\n",
       "      <td>43.150694</td>\n",
       "      <td>28.767130</td>\n",
       "      <td>98.018620</td>\n",
       "    </tr>\n",
       "    <tr>\n",
       "      <th>4</th>\n",
       "      <td>Lyon</td>\n",
       "      <td>64.272506</td>\n",
       "      <td>43.409858</td>\n",
       "      <td>90.024194</td>\n",
       "    </tr>\n",
       "    <tr>\n",
       "      <th>5</th>\n",
       "      <td>Marseille</td>\n",
       "      <td>72.902645</td>\n",
       "      <td>50.770096</td>\n",
       "      <td>89.097304</td>\n",
       "    </tr>\n",
       "    <tr>\n",
       "      <th>6</th>\n",
       "      <td>Metz/Nancy</td>\n",
       "      <td>39.392826</td>\n",
       "      <td>26.305078</td>\n",
       "      <td>125.825321</td>\n",
       "    </tr>\n",
       "    <tr>\n",
       "      <th>7</th>\n",
       "      <td>Montpellier</td>\n",
       "      <td>72.760105</td>\n",
       "      <td>50.666431</td>\n",
       "      <td>92.689002</td>\n",
       "    </tr>\n",
       "    <tr>\n",
       "      <th>8</th>\n",
       "      <td>Nantes</td>\n",
       "      <td>57.534259</td>\n",
       "      <td>38.356173</td>\n",
       "      <td>90.371777</td>\n",
       "    </tr>\n",
       "    <tr>\n",
       "      <th>9</th>\n",
       "      <td>Nice</td>\n",
       "      <td>84.681618</td>\n",
       "      <td>60.177725</td>\n",
       "      <td>101.957903</td>\n",
       "    </tr>\n",
       "    <tr>\n",
       "      <th>10</th>\n",
       "      <td>Strasbourg</td>\n",
       "      <td>51.573503</td>\n",
       "      <td>34.339141</td>\n",
       "      <td>78.090485</td>\n",
       "    </tr>\n",
       "    <tr>\n",
       "      <th>11</th>\n",
       "      <td>Toulon</td>\n",
       "      <td>77.658292</td>\n",
       "      <td>54.152178</td>\n",
       "      <td>105.781324</td>\n",
       "    </tr>\n",
       "    <tr>\n",
       "      <th>12</th>\n",
       "      <td>Toulouse</td>\n",
       "      <td>80.211050</td>\n",
       "      <td>56.756769</td>\n",
       "      <td>87.359385</td>\n",
       "    </tr>\n",
       "  </tbody>\n",
       "</table>\n",
       "</div>"
      ],
      "text/plain": [
       "               Ville  PRIX_SNCF_1  PRIX_SNCF_2  PRIX_Aerien\n",
       "0           Bordeaux    62.199199    44.705674    82.609073\n",
       "1              Brest    72.565732    48.074798    98.597926\n",
       "2   Clermont-Ferrand    44.964838    30.062946    89.444887\n",
       "3            Limoges    43.150694    28.767130    98.018620\n",
       "4               Lyon    64.272506    43.409858    90.024194\n",
       "5          Marseille    72.902645    50.770096    89.097304\n",
       "6         Metz/Nancy    39.392826    26.305078   125.825321\n",
       "7        Montpellier    72.760105    50.666431    92.689002\n",
       "8             Nantes    57.534259    38.356173    90.371777\n",
       "9               Nice    84.681618    60.177725   101.957903\n",
       "10        Strasbourg    51.573503    34.339141    78.090485\n",
       "11            Toulon    77.658292    54.152178   105.781324\n",
       "12          Toulouse    80.211050    56.756769    87.359385"
      ]
     },
     "execution_count": 37,
     "metadata": {},
     "output_type": "execute_result"
    }
   ],
   "source": [
    "data_prix"
   ]
  },
  {
   "cell_type": "code",
   "execution_count": 38,
   "id": "945db211-462d-46c1-89f2-9a44e0f46349",
   "metadata": {},
   "outputs": [
    {
     "data": {
      "text/html": [
       "<div>\n",
       "<style scoped>\n",
       "    .dataframe tbody tr th:only-of-type {\n",
       "        vertical-align: middle;\n",
       "    }\n",
       "\n",
       "    .dataframe tbody tr th {\n",
       "        vertical-align: top;\n",
       "    }\n",
       "\n",
       "    .dataframe thead th {\n",
       "        text-align: right;\n",
       "    }\n",
       "</style>\n",
       "<table border=\"1\" class=\"dataframe\">\n",
       "  <thead>\n",
       "    <tr style=\"text-align: right;\">\n",
       "      <th></th>\n",
       "      <th>Ville</th>\n",
       "      <th>PART_SNCF_1</th>\n",
       "      <th>PART_SNCF_2</th>\n",
       "      <th>PART_Aerien</th>\n",
       "    </tr>\n",
       "  </thead>\n",
       "  <tbody>\n",
       "    <tr>\n",
       "      <th>0</th>\n",
       "      <td>Bordeaux</td>\n",
       "      <td>413</td>\n",
       "      <td>1592</td>\n",
       "      <td>1400</td>\n",
       "    </tr>\n",
       "    <tr>\n",
       "      <th>1</th>\n",
       "      <td>Brest</td>\n",
       "      <td>67</td>\n",
       "      <td>404</td>\n",
       "      <td>428</td>\n",
       "    </tr>\n",
       "    <tr>\n",
       "      <th>2</th>\n",
       "      <td>Clermont-Ferrand</td>\n",
       "      <td>76</td>\n",
       "      <td>353</td>\n",
       "      <td>243</td>\n",
       "    </tr>\n",
       "    <tr>\n",
       "      <th>3</th>\n",
       "      <td>Limoges</td>\n",
       "      <td>116</td>\n",
       "      <td>359</td>\n",
       "      <td>70</td>\n",
       "    </tr>\n",
       "    <tr>\n",
       "      <th>4</th>\n",
       "      <td>Lyon</td>\n",
       "      <td>2024</td>\n",
       "      <td>3345</td>\n",
       "      <td>710</td>\n",
       "    </tr>\n",
       "    <tr>\n",
       "      <th>5</th>\n",
       "      <td>Marseille</td>\n",
       "      <td>253</td>\n",
       "      <td>1069</td>\n",
       "      <td>2700</td>\n",
       "    </tr>\n",
       "    <tr>\n",
       "      <th>6</th>\n",
       "      <td>Metz/Nancy</td>\n",
       "      <td>408</td>\n",
       "      <td>838</td>\n",
       "      <td>75</td>\n",
       "    </tr>\n",
       "    <tr>\n",
       "      <th>7</th>\n",
       "      <td>Montpellier</td>\n",
       "      <td>144</td>\n",
       "      <td>584</td>\n",
       "      <td>1150</td>\n",
       "    </tr>\n",
       "    <tr>\n",
       "      <th>8</th>\n",
       "      <td>Nantes</td>\n",
       "      <td>583</td>\n",
       "      <td>1712</td>\n",
       "      <td>350</td>\n",
       "    </tr>\n",
       "    <tr>\n",
       "      <th>9</th>\n",
       "      <td>Nice</td>\n",
       "      <td>105</td>\n",
       "      <td>351</td>\n",
       "      <td>2900</td>\n",
       "    </tr>\n",
       "    <tr>\n",
       "      <th>10</th>\n",
       "      <td>Strasbourg</td>\n",
       "      <td>99</td>\n",
       "      <td>542</td>\n",
       "      <td>1250</td>\n",
       "    </tr>\n",
       "    <tr>\n",
       "      <th>11</th>\n",
       "      <td>Toulon</td>\n",
       "      <td>139</td>\n",
       "      <td>490</td>\n",
       "      <td>650</td>\n",
       "    </tr>\n",
       "    <tr>\n",
       "      <th>12</th>\n",
       "      <td>Toulouse</td>\n",
       "      <td>115</td>\n",
       "      <td>634</td>\n",
       "      <td>2650</td>\n",
       "    </tr>\n",
       "  </tbody>\n",
       "</table>\n",
       "</div>"
      ],
      "text/plain": [
       "               Ville  PART_SNCF_1  PART_SNCF_2  PART_Aerien\n",
       "0           Bordeaux          413         1592         1400\n",
       "1              Brest           67          404          428\n",
       "2   Clermont-Ferrand           76          353          243\n",
       "3            Limoges          116          359           70\n",
       "4               Lyon         2024         3345          710\n",
       "5          Marseille          253         1069         2700\n",
       "6         Metz/Nancy          408          838           75\n",
       "7        Montpellier          144          584         1150\n",
       "8             Nantes          583         1712          350\n",
       "9               Nice          105          351         2900\n",
       "10        Strasbourg           99          542         1250\n",
       "11            Toulon          139          490          650\n",
       "12          Toulouse          115          634         2650"
      ]
     },
     "execution_count": 38,
     "metadata": {},
     "output_type": "execute_result"
    }
   ],
   "source": [
    "data_part"
   ]
  },
  {
   "cell_type": "markdown",
   "id": "1cb58fe0-3767-4927-a318-49918bee65c2",
   "metadata": {},
   "source": [
    "## Transformation des données "
   ]
  },
  {
   "cell_type": "code",
   "execution_count": 39,
   "id": "352c485a-b1d1-4a05-b0c9-0faa61c9c6a1",
   "metadata": {},
   "outputs": [],
   "source": [
    "data_prix[\"PRIX_SNCF_1_2\"] = (data_prix[\"PRIX_SNCF_1\"] * data_part[\"PART_SNCF_1\"] + data_prix[\"PRIX_SNCF_2\"] * data_part[\"PART_SNCF_2\"]) / (data_part[\"PART_SNCF_1\"] + data_part[\"PART_SNCF_2\"])"
   ]
  },
  {
   "cell_type": "code",
   "execution_count": 40,
   "id": "89202de4-9eca-4430-b949-6d0f437b7cde",
   "metadata": {},
   "outputs": [],
   "source": [
    "data = pd.concat([data_tmps, data_prix, data_part], axis=1)"
   ]
  },
  {
   "cell_type": "code",
   "execution_count": 41,
   "id": "5f7d839d-25b3-448c-832c-d5a72ea53378",
   "metadata": {},
   "outputs": [],
   "source": [
    "data = data.loc[:,~data.columns.duplicated()].copy()"
   ]
  },
  {
   "cell_type": "code",
   "execution_count": 42,
   "id": "5b1b1474-716d-4cad-8247-4ac6930d7820",
   "metadata": {},
   "outputs": [
    {
     "data": {
      "text/html": [
       "<div>\n",
       "<style scoped>\n",
       "    .dataframe tbody tr th:only-of-type {\n",
       "        vertical-align: middle;\n",
       "    }\n",
       "\n",
       "    .dataframe tbody tr th {\n",
       "        vertical-align: top;\n",
       "    }\n",
       "\n",
       "    .dataframe thead th {\n",
       "        text-align: right;\n",
       "    }\n",
       "</style>\n",
       "<table border=\"1\" class=\"dataframe\">\n",
       "  <thead>\n",
       "    <tr style=\"text-align: right;\">\n",
       "      <th></th>\n",
       "      <th>Ville</th>\n",
       "      <th>TEMPS_SNCF</th>\n",
       "      <th>TEMPS_AIR</th>\n",
       "      <th>PRIX_SNCF_1</th>\n",
       "      <th>PRIX_SNCF_2</th>\n",
       "      <th>PRIX_Aerien</th>\n",
       "      <th>PRIX_SNCF_1_2</th>\n",
       "      <th>PART_SNCF_1</th>\n",
       "      <th>PART_SNCF_2</th>\n",
       "      <th>PART_Aerien</th>\n",
       "    </tr>\n",
       "  </thead>\n",
       "  <tbody>\n",
       "    <tr>\n",
       "      <th>0</th>\n",
       "      <td>Bordeaux</td>\n",
       "      <td>242</td>\n",
       "      <td>165</td>\n",
       "      <td>62.199199</td>\n",
       "      <td>44.705674</td>\n",
       "      <td>82.609073</td>\n",
       "      <td>48.309079</td>\n",
       "      <td>413</td>\n",
       "      <td>1592</td>\n",
       "      <td>1400</td>\n",
       "    </tr>\n",
       "    <tr>\n",
       "      <th>1</th>\n",
       "      <td>Brest</td>\n",
       "      <td>308</td>\n",
       "      <td>170</td>\n",
       "      <td>72.565732</td>\n",
       "      <td>48.074798</td>\n",
       "      <td>98.597926</td>\n",
       "      <td>51.558646</td>\n",
       "      <td>67</td>\n",
       "      <td>404</td>\n",
       "      <td>428</td>\n",
       "    </tr>\n",
       "    <tr>\n",
       "      <th>2</th>\n",
       "      <td>Clermont-Ferrand</td>\n",
       "      <td>266</td>\n",
       "      <td>140</td>\n",
       "      <td>44.964838</td>\n",
       "      <td>30.062946</td>\n",
       "      <td>89.444887</td>\n",
       "      <td>32.702908</td>\n",
       "      <td>76</td>\n",
       "      <td>353</td>\n",
       "      <td>243</td>\n",
       "    </tr>\n",
       "    <tr>\n",
       "      <th>3</th>\n",
       "      <td>Limoges</td>\n",
       "      <td>235</td>\n",
       "      <td>180</td>\n",
       "      <td>43.150694</td>\n",
       "      <td>28.767130</td>\n",
       "      <td>98.018620</td>\n",
       "      <td>32.279747</td>\n",
       "      <td>116</td>\n",
       "      <td>359</td>\n",
       "      <td>70</td>\n",
       "    </tr>\n",
       "    <tr>\n",
       "      <th>4</th>\n",
       "      <td>Lyon</td>\n",
       "      <td>185</td>\n",
       "      <td>170</td>\n",
       "      <td>64.272506</td>\n",
       "      <td>43.409858</td>\n",
       "      <td>90.024194</td>\n",
       "      <td>51.274637</td>\n",
       "      <td>2024</td>\n",
       "      <td>3345</td>\n",
       "      <td>710</td>\n",
       "    </tr>\n",
       "    <tr>\n",
       "      <th>5</th>\n",
       "      <td>Marseille</td>\n",
       "      <td>319</td>\n",
       "      <td>190</td>\n",
       "      <td>72.902645</td>\n",
       "      <td>50.770096</td>\n",
       "      <td>89.097304</td>\n",
       "      <td>55.005750</td>\n",
       "      <td>253</td>\n",
       "      <td>1069</td>\n",
       "      <td>2700</td>\n",
       "    </tr>\n",
       "    <tr>\n",
       "      <th>6</th>\n",
       "      <td>Metz/Nancy</td>\n",
       "      <td>225</td>\n",
       "      <td>140</td>\n",
       "      <td>39.392826</td>\n",
       "      <td>26.305078</td>\n",
       "      <td>125.825321</td>\n",
       "      <td>30.590633</td>\n",
       "      <td>408</td>\n",
       "      <td>838</td>\n",
       "      <td>75</td>\n",
       "    </tr>\n",
       "    <tr>\n",
       "      <th>7</th>\n",
       "      <td>Montpellier</td>\n",
       "      <td>319</td>\n",
       "      <td>185</td>\n",
       "      <td>72.760105</td>\n",
       "      <td>50.666431</td>\n",
       "      <td>92.689002</td>\n",
       "      <td>55.036608</td>\n",
       "      <td>144</td>\n",
       "      <td>584</td>\n",
       "      <td>1150</td>\n",
       "    </tr>\n",
       "    <tr>\n",
       "      <th>8</th>\n",
       "      <td>Nantes</td>\n",
       "      <td>184</td>\n",
       "      <td>175</td>\n",
       "      <td>57.534259</td>\n",
       "      <td>38.356173</td>\n",
       "      <td>90.371777</td>\n",
       "      <td>43.227992</td>\n",
       "      <td>583</td>\n",
       "      <td>1712</td>\n",
       "      <td>350</td>\n",
       "    </tr>\n",
       "    <tr>\n",
       "      <th>9</th>\n",
       "      <td>Nice</td>\n",
       "      <td>451</td>\n",
       "      <td>210</td>\n",
       "      <td>84.681618</td>\n",
       "      <td>60.177725</td>\n",
       "      <td>101.957903</td>\n",
       "      <td>65.820069</td>\n",
       "      <td>105</td>\n",
       "      <td>351</td>\n",
       "      <td>2900</td>\n",
       "    </tr>\n",
       "    <tr>\n",
       "      <th>10</th>\n",
       "      <td>Strasbourg</td>\n",
       "      <td>296</td>\n",
       "      <td>160</td>\n",
       "      <td>51.573503</td>\n",
       "      <td>34.339141</td>\n",
       "      <td>78.090485</td>\n",
       "      <td>37.000922</td>\n",
       "      <td>99</td>\n",
       "      <td>542</td>\n",
       "      <td>1250</td>\n",
       "    </tr>\n",
       "    <tr>\n",
       "      <th>11</th>\n",
       "      <td>Toulon</td>\n",
       "      <td>368</td>\n",
       "      <td>185</td>\n",
       "      <td>77.658292</td>\n",
       "      <td>54.152178</td>\n",
       "      <td>105.781324</td>\n",
       "      <td>59.346693</td>\n",
       "      <td>139</td>\n",
       "      <td>490</td>\n",
       "      <td>650</td>\n",
       "    </tr>\n",
       "    <tr>\n",
       "      <th>12</th>\n",
       "      <td>Toulouse</td>\n",
       "      <td>365</td>\n",
       "      <td>190</td>\n",
       "      <td>80.211050</td>\n",
       "      <td>56.756769</td>\n",
       "      <td>87.359385</td>\n",
       "      <td>60.357894</td>\n",
       "      <td>115</td>\n",
       "      <td>634</td>\n",
       "      <td>2650</td>\n",
       "    </tr>\n",
       "  </tbody>\n",
       "</table>\n",
       "</div>"
      ],
      "text/plain": [
       "               Ville  TEMPS_SNCF  TEMPS_AIR  PRIX_SNCF_1  PRIX_SNCF_2  \\\n",
       "0           Bordeaux         242        165    62.199199    44.705674   \n",
       "1              Brest         308        170    72.565732    48.074798   \n",
       "2   Clermont-Ferrand         266        140    44.964838    30.062946   \n",
       "3            Limoges         235        180    43.150694    28.767130   \n",
       "4               Lyon         185        170    64.272506    43.409858   \n",
       "5          Marseille         319        190    72.902645    50.770096   \n",
       "6         Metz/Nancy         225        140    39.392826    26.305078   \n",
       "7        Montpellier         319        185    72.760105    50.666431   \n",
       "8             Nantes         184        175    57.534259    38.356173   \n",
       "9               Nice         451        210    84.681618    60.177725   \n",
       "10        Strasbourg         296        160    51.573503    34.339141   \n",
       "11            Toulon         368        185    77.658292    54.152178   \n",
       "12          Toulouse         365        190    80.211050    56.756769   \n",
       "\n",
       "    PRIX_Aerien  PRIX_SNCF_1_2  PART_SNCF_1  PART_SNCF_2  PART_Aerien  \n",
       "0     82.609073      48.309079          413         1592         1400  \n",
       "1     98.597926      51.558646           67          404          428  \n",
       "2     89.444887      32.702908           76          353          243  \n",
       "3     98.018620      32.279747          116          359           70  \n",
       "4     90.024194      51.274637         2024         3345          710  \n",
       "5     89.097304      55.005750          253         1069         2700  \n",
       "6    125.825321      30.590633          408          838           75  \n",
       "7     92.689002      55.036608          144          584         1150  \n",
       "8     90.371777      43.227992          583         1712          350  \n",
       "9    101.957903      65.820069          105          351         2900  \n",
       "10    78.090485      37.000922           99          542         1250  \n",
       "11   105.781324      59.346693          139          490          650  \n",
       "12    87.359385      60.357894          115          634         2650  "
      ]
     },
     "execution_count": 42,
     "metadata": {},
     "output_type": "execute_result"
    }
   ],
   "source": [
    "data"
   ]
  },
  {
   "cell_type": "markdown",
   "id": "89f28181-c203-43a6-b163-9765af5209eb",
   "metadata": {},
   "source": [
    "## Calcul des valeurs d'indifférence, de son Ln et de la part du marché du ferroviaire"
   ]
  },
  {
   "cell_type": "code",
   "execution_count": 43,
   "id": "6ed78b23-00d3-4faa-b869-f40c6da99f9d",
   "metadata": {},
   "outputs": [],
   "source": [
    "data[\"hi\"] = (data[\"PRIX_SNCF_1_2\"] - data[\"PRIX_Aerien\"]) / (data[\"TEMPS_AIR\"] - data[\"TEMPS_SNCF\"]) * 60\n",
    "data[\"Ln(hi)\"] = data[\"hi\"].apply(np.log)"
   ]
  },
  {
   "cell_type": "code",
   "execution_count": 44,
   "id": "8f2f89c5-fda6-4d4f-8e08-6695e1d36287",
   "metadata": {},
   "outputs": [
    {
     "data": {
      "text/plain": [
       "0     3.285684\n",
       "1     3.018074\n",
       "2     3.296577\n",
       "3     4.272702\n",
       "4     5.043414\n",
       "5     2.763582\n",
       "6     4.208038\n",
       "7     2.824901\n",
       "8     5.750322\n",
       "9     2.196888\n",
       "10    2.897444\n",
       "11    2.722904\n",
       "12    2.225451\n",
       "Name: Ln(hi), dtype: float64"
      ]
     },
     "execution_count": 44,
     "metadata": {},
     "output_type": "execute_result"
    }
   ],
   "source": [
    "data[\"Ln(hi)\"]"
   ]
  },
  {
   "cell_type": "code",
   "execution_count": 45,
   "id": "5b8c6194-566a-4ee1-9ca2-1f5a0014b0cf",
   "metadata": {},
   "outputs": [],
   "source": [
    "data[\"PART_SNCF\"] = (data[\"PART_SNCF_1\"] + data[\"PART_SNCF_2\"]) / (data[\"PART_SNCF_1\"] + data[\"PART_SNCF_2\"] + data[\"PART_Aerien\"])"
   ]
  },
  {
   "cell_type": "code",
   "execution_count": 46,
   "id": "5236ddab-2d4e-4592-ad11-da3c51b6a9c8",
   "metadata": {},
   "outputs": [
    {
     "data": {
      "text/plain": [
       "0     0.588840\n",
       "1     0.523915\n",
       "2     0.638393\n",
       "3     0.871560\n",
       "4     0.883204\n",
       "5     0.328692\n",
       "6     0.943225\n",
       "7     0.387646\n",
       "8     0.867675\n",
       "9     0.135876\n",
       "10    0.338974\n",
       "11    0.491790\n",
       "12    0.220359\n",
       "Name: PART_SNCF, dtype: float64"
      ]
     },
     "execution_count": 46,
     "metadata": {},
     "output_type": "execute_result"
    }
   ],
   "source": [
    "data[\"PART_SNCF\"]"
   ]
  },
  {
   "cell_type": "code",
   "execution_count": 47,
   "id": "c573e3e3-bd0d-4323-b0f7-6fec4d75a5fe",
   "metadata": {},
   "outputs": [],
   "source": [
    "data[\"PHI(PART_SNCF)\"] = data[\"PART_SNCF\"].apply(norm.ppf)"
   ]
  },
  {
   "cell_type": "markdown",
   "id": "79cf0194-a204-4b82-85cb-9ebdcd250246",
   "metadata": {},
   "source": [
    "## Estimation de la régression linéeaire "
   ]
  },
  {
   "cell_type": "code",
   "execution_count": 48,
   "id": "bd491cc4-b6b9-4e01-8a0d-e114896db6a8",
   "metadata": {},
   "outputs": [],
   "source": [
    "result = linregress(data[\"Ln(hi)\"].values, data[\"PHI(PART_SNCF)\"].values)"
   ]
  },
  {
   "cell_type": "code",
   "execution_count": 49,
   "id": "c2d6d4c6-a3fd-44fe-955d-54830b1c2980",
   "metadata": {},
   "outputs": [
    {
     "name": "stdout",
     "output_type": "stream",
     "text": [
      "0.6818354499979745 -2.132233549096914\n"
     ]
    }
   ],
   "source": [
    "print(result.slope, result.intercept)"
   ]
  },
  {
   "cell_type": "code",
   "execution_count": 50,
   "id": "8332f42a-4f0c-49ba-b727-9288803c65eb",
   "metadata": {},
   "outputs": [
    {
     "name": "stdout",
     "output_type": "stream",
     "text": [
      "5.8016293455350645e-05 0.10815216617435407 0.38698750780274954\n"
     ]
    }
   ],
   "source": [
    "print(result.pvalue, result.stderr, result.intercept_stderr)"
   ]
  },
  {
   "cell_type": "code",
   "execution_count": 51,
   "id": "5e568bd8-eb47-4ee1-887c-c14c1fd77f59",
   "metadata": {},
   "outputs": [
    {
     "data": {
      "text/plain": [
       "0.7114952490687216"
      ]
     },
     "execution_count": 51,
     "metadata": {},
     "output_type": "execute_result"
    }
   ],
   "source": [
    "0.6818354499979745+0.95*0.10815216617435407/np.sqrt(12)"
   ]
  },
  {
   "cell_type": "code",
   "execution_count": 65,
   "id": "0d0b7130-1741-4d3d-943b-5bdd2bba3450",
   "metadata": {},
   "outputs": [
    {
     "data": {
      "text/plain": [
       "<matplotlib.legend.Legend at 0x7f5397671040>"
      ]
     },
     "execution_count": 65,
     "metadata": {},
     "output_type": "execute_result"
    },
    {
     "data": {
      "image/png": "[encoded data removed]",
      "text/plain": [
       "<Figure size 1440x720 with 1 Axes>"
      ]
     },
     "metadata": {
      "needs_background": "light"
     },
     "output_type": "display_data"
    }
   ],
   "source": [
    "x, y, n = data[\"Ln(hi)\"], data[\"PHI(PART_SNCF)\"], data[\"Ville\"]\n",
    "\n",
    "ax = plt.plot(x, y, 'o', label='Original data')\n",
    "label_point(x, y, n, plt.gca())  \n",
    "\n",
    "plt.plot(x, result.intercept + result.slope*x, 'r', label='Fitted line')\n",
    "\n",
    "plt.legend(fontsize=20)"
   ]
  },
  {
   "cell_type": "code",
   "execution_count": 83,
   "id": "e794a78c-b823-4105-b812-a0ba8e689b38",
   "metadata": {},
   "outputs": [],
   "source": [
    "data[\"PART_SNCF_MODEL\"] = (result.intercept + result.slope*x).apply(norm.cdf)"
   ]
  }
 ],
 "metadata": {
  "kernelspec": {
   "display_name": "Python 3 (ipykernel)",
   "language": "python",
   "name": "python3"
  },
  "language_info": {
   "codemirror_mode": {
    "name": "ipython",
    "version": 3
   },
   "file_extension": ".py",
   "mimetype": "text/x-python",
   "name": "python",
   "nbconvert_exporter": "python",
   "pygments_lexer": "ipython3",
   "version": "3.8.10"
  }
 },
 "nbformat": 4,
 "nbformat_minor": 5
}
